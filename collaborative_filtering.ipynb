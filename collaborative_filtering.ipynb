{
  "cells": [
    {
      "cell_type": "code",
      "execution_count": null,
      "metadata": {
        "id": "iDRQZ_fmjP9v"
      },
      "outputs": [],
      "source": [
        "import pandas as pd\n",
        "from scipy import sparse\n",
        "from sklearn.metrics.pairwise import cosine_similarity"
      ]
    },
    {
      "cell_type": "code",
      "execution_count": 10,
      "metadata": {
        "colab": {
          "base_uri": "https://localhost:8080/",
          "height": 73
        },
        "id": "oiKqz4aS_ZBQ",
        "outputId": "5d3ecfcd-318b-4f65-ca44-300daa4b23eb"
      },
      "outputs": [
        {
          "output_type": "display_data",
          "data": {
            "text/plain": [
              "<IPython.core.display.HTML object>"
            ],
            "text/html": [
              "\n",
              "     <input type=\"file\" id=\"files-6e367c88-78a4-4873-a40a-7711567a28ee\" name=\"files[]\" multiple disabled\n",
              "        style=\"border:none\" />\n",
              "     <output id=\"result-6e367c88-78a4-4873-a40a-7711567a28ee\">\n",
              "      Upload widget is only available when the cell has been executed in the\n",
              "      current browser session. Please rerun this cell to enable.\n",
              "      </output>\n",
              "      <script>// Copyright 2017 Google LLC\n",
              "//\n",
              "// Licensed under the Apache License, Version 2.0 (the \"License\");\n",
              "// you may not use this file except in compliance with the License.\n",
              "// You may obtain a copy of the License at\n",
              "//\n",
              "//      http://www.apache.org/licenses/LICENSE-2.0\n",
              "//\n",
              "// Unless required by applicable law or agreed to in writing, software\n",
              "// distributed under the License is distributed on an \"AS IS\" BASIS,\n",
              "// WITHOUT WARRANTIES OR CONDITIONS OF ANY KIND, either express or implied.\n",
              "// See the License for the specific language governing permissions and\n",
              "// limitations under the License.\n",
              "\n",
              "/**\n",
              " * @fileoverview Helpers for google.colab Python module.\n",
              " */\n",
              "(function(scope) {\n",
              "function span(text, styleAttributes = {}) {\n",
              "  const element = document.createElement('span');\n",
              "  element.textContent = text;\n",
              "  for (const key of Object.keys(styleAttributes)) {\n",
              "    element.style[key] = styleAttributes[key];\n",
              "  }\n",
              "  return element;\n",
              "}\n",
              "\n",
              "// Max number of bytes which will be uploaded at a time.\n",
              "const MAX_PAYLOAD_SIZE = 100 * 1024;\n",
              "\n",
              "function _uploadFiles(inputId, outputId) {\n",
              "  const steps = uploadFilesStep(inputId, outputId);\n",
              "  const outputElement = document.getElementById(outputId);\n",
              "  // Cache steps on the outputElement to make it available for the next call\n",
              "  // to uploadFilesContinue from Python.\n",
              "  outputElement.steps = steps;\n",
              "\n",
              "  return _uploadFilesContinue(outputId);\n",
              "}\n",
              "\n",
              "// This is roughly an async generator (not supported in the browser yet),\n",
              "// where there are multiple asynchronous steps and the Python side is going\n",
              "// to poll for completion of each step.\n",
              "// This uses a Promise to block the python side on completion of each step,\n",
              "// then passes the result of the previous step as the input to the next step.\n",
              "function _uploadFilesContinue(outputId) {\n",
              "  const outputElement = document.getElementById(outputId);\n",
              "  const steps = outputElement.steps;\n",
              "\n",
              "  const next = steps.next(outputElement.lastPromiseValue);\n",
              "  return Promise.resolve(next.value.promise).then((value) => {\n",
              "    // Cache the last promise value to make it available to the next\n",
              "    // step of the generator.\n",
              "    outputElement.lastPromiseValue = value;\n",
              "    return next.value.response;\n",
              "  });\n",
              "}\n",
              "\n",
              "/**\n",
              " * Generator function which is called between each async step of the upload\n",
              " * process.\n",
              " * @param {string} inputId Element ID of the input file picker element.\n",
              " * @param {string} outputId Element ID of the output display.\n",
              " * @return {!Iterable<!Object>} Iterable of next steps.\n",
              " */\n",
              "function* uploadFilesStep(inputId, outputId) {\n",
              "  const inputElement = document.getElementById(inputId);\n",
              "  inputElement.disabled = false;\n",
              "\n",
              "  const outputElement = document.getElementById(outputId);\n",
              "  outputElement.innerHTML = '';\n",
              "\n",
              "  const pickedPromise = new Promise((resolve) => {\n",
              "    inputElement.addEventListener('change', (e) => {\n",
              "      resolve(e.target.files);\n",
              "    });\n",
              "  });\n",
              "\n",
              "  const cancel = document.createElement('button');\n",
              "  inputElement.parentElement.appendChild(cancel);\n",
              "  cancel.textContent = 'Cancel upload';\n",
              "  const cancelPromise = new Promise((resolve) => {\n",
              "    cancel.onclick = () => {\n",
              "      resolve(null);\n",
              "    };\n",
              "  });\n",
              "\n",
              "  // Wait for the user to pick the files.\n",
              "  const files = yield {\n",
              "    promise: Promise.race([pickedPromise, cancelPromise]),\n",
              "    response: {\n",
              "      action: 'starting',\n",
              "    }\n",
              "  };\n",
              "\n",
              "  cancel.remove();\n",
              "\n",
              "  // Disable the input element since further picks are not allowed.\n",
              "  inputElement.disabled = true;\n",
              "\n",
              "  if (!files) {\n",
              "    return {\n",
              "      response: {\n",
              "        action: 'complete',\n",
              "      }\n",
              "    };\n",
              "  }\n",
              "\n",
              "  for (const file of files) {\n",
              "    const li = document.createElement('li');\n",
              "    li.append(span(file.name, {fontWeight: 'bold'}));\n",
              "    li.append(span(\n",
              "        `(${file.type || 'n/a'}) - ${file.size} bytes, ` +\n",
              "        `last modified: ${\n",
              "            file.lastModifiedDate ? file.lastModifiedDate.toLocaleDateString() :\n",
              "                                    'n/a'} - `));\n",
              "    const percent = span('0% done');\n",
              "    li.appendChild(percent);\n",
              "\n",
              "    outputElement.appendChild(li);\n",
              "\n",
              "    const fileDataPromise = new Promise((resolve) => {\n",
              "      const reader = new FileReader();\n",
              "      reader.onload = (e) => {\n",
              "        resolve(e.target.result);\n",
              "      };\n",
              "      reader.readAsArrayBuffer(file);\n",
              "    });\n",
              "    // Wait for the data to be ready.\n",
              "    let fileData = yield {\n",
              "      promise: fileDataPromise,\n",
              "      response: {\n",
              "        action: 'continue',\n",
              "      }\n",
              "    };\n",
              "\n",
              "    // Use a chunked sending to avoid message size limits. See b/62115660.\n",
              "    let position = 0;\n",
              "    do {\n",
              "      const length = Math.min(fileData.byteLength - position, MAX_PAYLOAD_SIZE);\n",
              "      const chunk = new Uint8Array(fileData, position, length);\n",
              "      position += length;\n",
              "\n",
              "      const base64 = btoa(String.fromCharCode.apply(null, chunk));\n",
              "      yield {\n",
              "        response: {\n",
              "          action: 'append',\n",
              "          file: file.name,\n",
              "          data: base64,\n",
              "        },\n",
              "      };\n",
              "\n",
              "      let percentDone = fileData.byteLength === 0 ?\n",
              "          100 :\n",
              "          Math.round((position / fileData.byteLength) * 100);\n",
              "      percent.textContent = `${percentDone}% done`;\n",
              "\n",
              "    } while (position < fileData.byteLength);\n",
              "  }\n",
              "\n",
              "  // All done.\n",
              "  yield {\n",
              "    response: {\n",
              "      action: 'complete',\n",
              "    }\n",
              "  };\n",
              "}\n",
              "\n",
              "scope.google = scope.google || {};\n",
              "scope.google.colab = scope.google.colab || {};\n",
              "scope.google.colab._files = {\n",
              "  _uploadFiles,\n",
              "  _uploadFilesContinue,\n",
              "};\n",
              "})(self);\n",
              "</script> "
            ]
          },
          "metadata": {}
        },
        {
          "output_type": "stream",
          "name": "stdout",
          "text": [
            "Saving tmdb_5000_credits.csv to tmdb_5000_credits (3).csv\n"
          ]
        }
      ],
      "source": [
        "from google.colab import files\n",
        "ratings = files.upload()\n",
        "\n",
        "ratings = pd.read_csv(\"tmdb_5000_credits.csv\",index_col=0)\n"
      ]
    },
    {
      "cell_type": "code",
      "source": [
        "print(ratings.head(2))\n",
        "# Display columns as a list\n",
        "ratings.columns\n"
      ],
      "metadata": {
        "colab": {
          "base_uri": "https://localhost:8080/"
        },
        "id": "EgiTfRvLf5Gh",
        "outputId": "72b02be7-433e-40f0-ca07-93739d6ae022"
      },
      "execution_count": 16,
      "outputs": [
        {
          "output_type": "stream",
          "name": "stdout",
          "text": [
            "                                             title  \\\n",
            "movie_id                                             \n",
            "19995                                       Avatar   \n",
            "285       Pirates of the Caribbean: At World's End   \n",
            "\n",
            "                                                       cast  \\\n",
            "movie_id                                                      \n",
            "19995     [{\"cast_id\": 242, \"character\": \"Jake Sully\", \"...   \n",
            "285       [{\"cast_id\": 4, \"character\": \"Captain Jack Spa...   \n",
            "\n",
            "                                                       crew  \n",
            "movie_id                                                     \n",
            "19995     [{\"credit_id\": \"52fe48009251416c750aca23\", \"de...  \n",
            "285       [{\"credit_id\": \"52fe4232c3a36847f800b579\", \"de...  \n"
          ]
        },
        {
          "output_type": "execute_result",
          "data": {
            "text/plain": [
              "Index(['title', 'cast', 'crew'], dtype='object')"
            ]
          },
          "metadata": {},
          "execution_count": 16
        }
      ]
    },
    {
      "cell_type": "code",
      "source": [
        "des=ratings.describe(include='all')\n",
        "print(des)"
      ],
      "metadata": {
        "colab": {
          "base_uri": "https://localhost:8080/"
        },
        "id": "byL60WEgnGxn",
        "outputId": "0c86c538-2398-4845-8e1a-6ab43d830956"
      },
      "execution_count": 18,
      "outputs": [
        {
          "output_type": "stream",
          "name": "stdout",
          "text": [
            "           title  cast  crew\n",
            "count       4803  4803  4803\n",
            "unique      4800  4761  4776\n",
            "top     The Host    []    []\n",
            "freq           2    43    28\n"
          ]
        }
      ]
    },
    {
      "cell_type": "code",
      "source": [
        "from google.colab import files\n",
        "movies = files.upload()\n",
        "\n",
        "movies = pd.read_csv(\"tmdb_5000_movies.csv\",index_col=0)"
      ],
      "metadata": {
        "colab": {
          "base_uri": "https://localhost:8080/",
          "height": 73
        },
        "id": "BvIOJY_UfkZ1",
        "outputId": "26fc9eb1-da08-4e01-8279-18d44e47d7c1"
      },
      "execution_count": 19,
      "outputs": [
        {
          "output_type": "display_data",
          "data": {
            "text/plain": [
              "<IPython.core.display.HTML object>"
            ],
            "text/html": [
              "\n",
              "     <input type=\"file\" id=\"files-481924e4-3b48-4d30-b3f4-f3d793c5e03b\" name=\"files[]\" multiple disabled\n",
              "        style=\"border:none\" />\n",
              "     <output id=\"result-481924e4-3b48-4d30-b3f4-f3d793c5e03b\">\n",
              "      Upload widget is only available when the cell has been executed in the\n",
              "      current browser session. Please rerun this cell to enable.\n",
              "      </output>\n",
              "      <script>// Copyright 2017 Google LLC\n",
              "//\n",
              "// Licensed under the Apache License, Version 2.0 (the \"License\");\n",
              "// you may not use this file except in compliance with the License.\n",
              "// You may obtain a copy of the License at\n",
              "//\n",
              "//      http://www.apache.org/licenses/LICENSE-2.0\n",
              "//\n",
              "// Unless required by applicable law or agreed to in writing, software\n",
              "// distributed under the License is distributed on an \"AS IS\" BASIS,\n",
              "// WITHOUT WARRANTIES OR CONDITIONS OF ANY KIND, either express or implied.\n",
              "// See the License for the specific language governing permissions and\n",
              "// limitations under the License.\n",
              "\n",
              "/**\n",
              " * @fileoverview Helpers for google.colab Python module.\n",
              " */\n",
              "(function(scope) {\n",
              "function span(text, styleAttributes = {}) {\n",
              "  const element = document.createElement('span');\n",
              "  element.textContent = text;\n",
              "  for (const key of Object.keys(styleAttributes)) {\n",
              "    element.style[key] = styleAttributes[key];\n",
              "  }\n",
              "  return element;\n",
              "}\n",
              "\n",
              "// Max number of bytes which will be uploaded at a time.\n",
              "const MAX_PAYLOAD_SIZE = 100 * 1024;\n",
              "\n",
              "function _uploadFiles(inputId, outputId) {\n",
              "  const steps = uploadFilesStep(inputId, outputId);\n",
              "  const outputElement = document.getElementById(outputId);\n",
              "  // Cache steps on the outputElement to make it available for the next call\n",
              "  // to uploadFilesContinue from Python.\n",
              "  outputElement.steps = steps;\n",
              "\n",
              "  return _uploadFilesContinue(outputId);\n",
              "}\n",
              "\n",
              "// This is roughly an async generator (not supported in the browser yet),\n",
              "// where there are multiple asynchronous steps and the Python side is going\n",
              "// to poll for completion of each step.\n",
              "// This uses a Promise to block the python side on completion of each step,\n",
              "// then passes the result of the previous step as the input to the next step.\n",
              "function _uploadFilesContinue(outputId) {\n",
              "  const outputElement = document.getElementById(outputId);\n",
              "  const steps = outputElement.steps;\n",
              "\n",
              "  const next = steps.next(outputElement.lastPromiseValue);\n",
              "  return Promise.resolve(next.value.promise).then((value) => {\n",
              "    // Cache the last promise value to make it available to the next\n",
              "    // step of the generator.\n",
              "    outputElement.lastPromiseValue = value;\n",
              "    return next.value.response;\n",
              "  });\n",
              "}\n",
              "\n",
              "/**\n",
              " * Generator function which is called between each async step of the upload\n",
              " * process.\n",
              " * @param {string} inputId Element ID of the input file picker element.\n",
              " * @param {string} outputId Element ID of the output display.\n",
              " * @return {!Iterable<!Object>} Iterable of next steps.\n",
              " */\n",
              "function* uploadFilesStep(inputId, outputId) {\n",
              "  const inputElement = document.getElementById(inputId);\n",
              "  inputElement.disabled = false;\n",
              "\n",
              "  const outputElement = document.getElementById(outputId);\n",
              "  outputElement.innerHTML = '';\n",
              "\n",
              "  const pickedPromise = new Promise((resolve) => {\n",
              "    inputElement.addEventListener('change', (e) => {\n",
              "      resolve(e.target.files);\n",
              "    });\n",
              "  });\n",
              "\n",
              "  const cancel = document.createElement('button');\n",
              "  inputElement.parentElement.appendChild(cancel);\n",
              "  cancel.textContent = 'Cancel upload';\n",
              "  const cancelPromise = new Promise((resolve) => {\n",
              "    cancel.onclick = () => {\n",
              "      resolve(null);\n",
              "    };\n",
              "  });\n",
              "\n",
              "  // Wait for the user to pick the files.\n",
              "  const files = yield {\n",
              "    promise: Promise.race([pickedPromise, cancelPromise]),\n",
              "    response: {\n",
              "      action: 'starting',\n",
              "    }\n",
              "  };\n",
              "\n",
              "  cancel.remove();\n",
              "\n",
              "  // Disable the input element since further picks are not allowed.\n",
              "  inputElement.disabled = true;\n",
              "\n",
              "  if (!files) {\n",
              "    return {\n",
              "      response: {\n",
              "        action: 'complete',\n",
              "      }\n",
              "    };\n",
              "  }\n",
              "\n",
              "  for (const file of files) {\n",
              "    const li = document.createElement('li');\n",
              "    li.append(span(file.name, {fontWeight: 'bold'}));\n",
              "    li.append(span(\n",
              "        `(${file.type || 'n/a'}) - ${file.size} bytes, ` +\n",
              "        `last modified: ${\n",
              "            file.lastModifiedDate ? file.lastModifiedDate.toLocaleDateString() :\n",
              "                                    'n/a'} - `));\n",
              "    const percent = span('0% done');\n",
              "    li.appendChild(percent);\n",
              "\n",
              "    outputElement.appendChild(li);\n",
              "\n",
              "    const fileDataPromise = new Promise((resolve) => {\n",
              "      const reader = new FileReader();\n",
              "      reader.onload = (e) => {\n",
              "        resolve(e.target.result);\n",
              "      };\n",
              "      reader.readAsArrayBuffer(file);\n",
              "    });\n",
              "    // Wait for the data to be ready.\n",
              "    let fileData = yield {\n",
              "      promise: fileDataPromise,\n",
              "      response: {\n",
              "        action: 'continue',\n",
              "      }\n",
              "    };\n",
              "\n",
              "    // Use a chunked sending to avoid message size limits. See b/62115660.\n",
              "    let position = 0;\n",
              "    do {\n",
              "      const length = Math.min(fileData.byteLength - position, MAX_PAYLOAD_SIZE);\n",
              "      const chunk = new Uint8Array(fileData, position, length);\n",
              "      position += length;\n",
              "\n",
              "      const base64 = btoa(String.fromCharCode.apply(null, chunk));\n",
              "      yield {\n",
              "        response: {\n",
              "          action: 'append',\n",
              "          file: file.name,\n",
              "          data: base64,\n",
              "        },\n",
              "      };\n",
              "\n",
              "      let percentDone = fileData.byteLength === 0 ?\n",
              "          100 :\n",
              "          Math.round((position / fileData.byteLength) * 100);\n",
              "      percent.textContent = `${percentDone}% done`;\n",
              "\n",
              "    } while (position < fileData.byteLength);\n",
              "  }\n",
              "\n",
              "  // All done.\n",
              "  yield {\n",
              "    response: {\n",
              "      action: 'complete',\n",
              "    }\n",
              "  };\n",
              "}\n",
              "\n",
              "scope.google = scope.google || {};\n",
              "scope.google.colab = scope.google.colab || {};\n",
              "scope.google.colab._files = {\n",
              "  _uploadFiles,\n",
              "  _uploadFilesContinue,\n",
              "};\n",
              "})(self);\n",
              "</script> "
            ]
          },
          "metadata": {}
        },
        {
          "output_type": "stream",
          "name": "stdout",
          "text": [
            "Saving tmdb_5000_movies.csv to tmdb_5000_movies (2).csv\n"
          ]
        }
      ]
    },
    {
      "cell_type": "code",
      "source": [
        "print(movies.head(2))\n",
        "movies.columns\n"
      ],
      "metadata": {
        "colab": {
          "base_uri": "https://localhost:8080/"
        },
        "id": "KA-BvnTpfxqQ",
        "outputId": "79eb99de-99cc-405e-b5e6-495a2bd68278"
      },
      "execution_count": 23,
      "outputs": [
        {
          "output_type": "stream",
          "name": "stdout",
          "text": [
            "                                                      genres  \\\n",
            "budget                                                         \n",
            "237000000  [{\"id\": 28, \"name\": \"Action\"}, {\"id\": 12, \"nam...   \n",
            "300000000  [{\"id\": 12, \"name\": \"Adventure\"}, {\"id\": 14, \"...   \n",
            "\n",
            "                                               homepage     id  \\\n",
            "budget                                                           \n",
            "237000000                   http://www.avatarmovie.com/  19995   \n",
            "300000000  http://disney.go.com/disneypictures/pirates/    285   \n",
            "\n",
            "                                                    keywords  \\\n",
            "budget                                                         \n",
            "237000000  [{\"id\": 1463, \"name\": \"culture clash\"}, {\"id\":...   \n",
            "300000000  [{\"id\": 270, \"name\": \"ocean\"}, {\"id\": 726, \"na...   \n",
            "\n",
            "          original_language                            original_title  \\\n",
            "budget                                                                  \n",
            "237000000                en                                    Avatar   \n",
            "300000000                en  Pirates of the Caribbean: At World's End   \n",
            "\n",
            "                                                    overview  popularity  \\\n",
            "budget                                                                     \n",
            "237000000  In the 22nd century, a paraplegic Marine is di...  150.437577   \n",
            "300000000  Captain Barbossa, long believed to be dead, ha...  139.082615   \n",
            "\n",
            "                                        production_companies  \\\n",
            "budget                                                         \n",
            "237000000  [{\"name\": \"Ingenious Film Partners\", \"id\": 289...   \n",
            "300000000  [{\"name\": \"Walt Disney Pictures\", \"id\": 2}, {\"...   \n",
            "\n",
            "                                        production_countries release_date  \\\n",
            "budget                                                                      \n",
            "237000000  [{\"iso_3166_1\": \"US\", \"name\": \"United States o...   2009-12-10   \n",
            "300000000  [{\"iso_3166_1\": \"US\", \"name\": \"United States o...   2007-05-19   \n",
            "\n",
            "              revenue  runtime  \\\n",
            "budget                           \n",
            "237000000  2787965087    162.0   \n",
            "300000000   961000000    169.0   \n",
            "\n",
            "                                            spoken_languages    status  \\\n",
            "budget                                                                   \n",
            "237000000  [{\"iso_639_1\": \"en\", \"name\": \"English\"}, {\"iso...  Released   \n",
            "300000000           [{\"iso_639_1\": \"en\", \"name\": \"English\"}]  Released   \n",
            "\n",
            "                                                  tagline  \\\n",
            "budget                                                      \n",
            "237000000                     Enter the World of Pandora.   \n",
            "300000000  At the end of the world, the adventure begins.   \n",
            "\n",
            "                                              title  vote_average  vote_count  \n",
            "budget                                                                         \n",
            "237000000                                    Avatar           7.2       11800  \n",
            "300000000  Pirates of the Caribbean: At World's End           6.9        4500  \n"
          ]
        },
        {
          "output_type": "execute_result",
          "data": {
            "text/plain": [
              "Index(['genres', 'homepage', 'id', 'keywords', 'original_language',\n",
              "       'original_title', 'overview', 'popularity', 'production_companies',\n",
              "       'production_countries', 'release_date', 'revenue', 'runtime',\n",
              "       'spoken_languages', 'status', 'tagline', 'title', 'vote_average',\n",
              "       'vote_count'],\n",
              "      dtype='object')"
            ]
          },
          "metadata": {},
          "execution_count": 23
        }
      ]
    },
    {
      "cell_type": "code",
      "source": [
        "des2=movies.describe(include='all')\n",
        "print(des2)"
      ],
      "metadata": {
        "colab": {
          "base_uri": "https://localhost:8080/"
        },
        "id": "LjWbeFjngoNA",
        "outputId": "68d46348-a215-4ca4-e312-0f73dd59617a"
      },
      "execution_count": 24,
      "outputs": [
        {
          "output_type": "stream",
          "name": "stdout",
          "text": [
            "                               genres                           homepage  \\\n",
            "count                            4803                               1712   \n",
            "unique                           1175                               1691   \n",
            "top     [{\"id\": 18, \"name\": \"Drama\"}]  http://www.missionimpossible.com/   \n",
            "freq                              370                                  4   \n",
            "mean                              NaN                                NaN   \n",
            "std                               NaN                                NaN   \n",
            "min                               NaN                                NaN   \n",
            "25%                               NaN                                NaN   \n",
            "50%                               NaN                                NaN   \n",
            "75%                               NaN                                NaN   \n",
            "max                               NaN                                NaN   \n",
            "\n",
            "                   id keywords original_language   original_title  \\\n",
            "count     4803.000000     4803              4803             4803   \n",
            "unique            NaN     4222                37             4801   \n",
            "top               NaN       []                en  Out of the Blue   \n",
            "freq              NaN      412              4505                2   \n",
            "mean     57165.484281      NaN               NaN              NaN   \n",
            "std      88694.614033      NaN               NaN              NaN   \n",
            "min          5.000000      NaN               NaN              NaN   \n",
            "25%       9014.500000      NaN               NaN              NaN   \n",
            "50%      14629.000000      NaN               NaN              NaN   \n",
            "75%      58610.500000      NaN               NaN              NaN   \n",
            "max     459488.000000      NaN               NaN              NaN   \n",
            "\n",
            "                                                 overview   popularity  \\\n",
            "count                                                4800  4803.000000   \n",
            "unique                                               4800          NaN   \n",
            "top     In the 22nd century, a paraplegic Marine is di...          NaN   \n",
            "freq                                                    1          NaN   \n",
            "mean                                                  NaN    21.492301   \n",
            "std                                                   NaN    31.816650   \n",
            "min                                                   NaN     0.000000   \n",
            "25%                                                   NaN     4.668070   \n",
            "50%                                                   NaN    12.921594   \n",
            "75%                                                   NaN    28.313505   \n",
            "max                                                   NaN   875.581305   \n",
            "\n",
            "       production_companies  \\\n",
            "count                  4803   \n",
            "unique                 3697   \n",
            "top                      []   \n",
            "freq                    351   \n",
            "mean                    NaN   \n",
            "std                     NaN   \n",
            "min                     NaN   \n",
            "25%                     NaN   \n",
            "50%                     NaN   \n",
            "75%                     NaN   \n",
            "max                     NaN   \n",
            "\n",
            "                                     production_countries release_date  \\\n",
            "count                                                4803         4802   \n",
            "unique                                                469         3280   \n",
            "top     [{\"iso_3166_1\": \"US\", \"name\": \"United States o...   2006-01-01   \n",
            "freq                                                 2977           10   \n",
            "mean                                                  NaN          NaN   \n",
            "std                                                   NaN          NaN   \n",
            "min                                                   NaN          NaN   \n",
            "25%                                                   NaN          NaN   \n",
            "50%                                                   NaN          NaN   \n",
            "75%                                                   NaN          NaN   \n",
            "max                                                   NaN          NaN   \n",
            "\n",
            "             revenue      runtime                          spoken_languages  \\\n",
            "count   4.803000e+03  4801.000000                                      4803   \n",
            "unique           NaN          NaN                                       544   \n",
            "top              NaN          NaN  [{\"iso_639_1\": \"en\", \"name\": \"English\"}]   \n",
            "freq             NaN          NaN                                      3171   \n",
            "mean    8.226064e+07   106.875859                                       NaN   \n",
            "std     1.628571e+08    22.611935                                       NaN   \n",
            "min     0.000000e+00     0.000000                                       NaN   \n",
            "25%     0.000000e+00    94.000000                                       NaN   \n",
            "50%     1.917000e+07   103.000000                                       NaN   \n",
            "75%     9.291719e+07   118.000000                                       NaN   \n",
            "max     2.787965e+09   338.000000                                       NaN   \n",
            "\n",
            "          status                 tagline     title  vote_average    vote_count  \n",
            "count       4803                    3959      4803   4803.000000   4803.000000  \n",
            "unique         3                    3944      4800           NaN           NaN  \n",
            "top     Released  Based on a true story.  The Host           NaN           NaN  \n",
            "freq        4795                       3         2           NaN           NaN  \n",
            "mean         NaN                     NaN       NaN      6.092172    690.217989  \n",
            "std          NaN                     NaN       NaN      1.194612   1234.585891  \n",
            "min          NaN                     NaN       NaN      0.000000      0.000000  \n",
            "25%          NaN                     NaN       NaN      5.600000     54.000000  \n",
            "50%          NaN                     NaN       NaN      6.200000    235.000000  \n",
            "75%          NaN                     NaN       NaN      6.800000    737.000000  \n",
            "max          NaN                     NaN       NaN     10.000000  13752.000000  \n"
          ]
        }
      ]
    },
    {
      "cell_type": "code",
      "source": [
        "# Merge the datasets on the 'title' column\n",
        "data = pd.merge(movies, ratings, left_on='title', right_on='title', how='inner')\n"
      ],
      "metadata": {
        "id": "M6Y4-FdFpifS"
      },
      "execution_count": 25,
      "outputs": []
    },
    {
      "cell_type": "code",
      "source": [
        "# Select relevant columns for collaborative filtering\n",
        "selected_columns = ['title', 'cast', 'crew', 'vote_average', 'vote_count']\n",
        "data = data[selected_columns]"
      ],
      "metadata": {
        "id": "iR-nrhdEps-4"
      },
      "execution_count": 26,
      "outputs": []
    },
    {
      "cell_type": "code",
      "source": [
        "# Explore the dataset (EDA)\n",
        "print(\"Dataset Information:\")\n",
        "print(data.info())\n",
        "print(\"\\nDescriptive Statistics:\")\n",
        "print(data.describe())"
      ],
      "metadata": {
        "colab": {
          "base_uri": "https://localhost:8080/"
        },
        "id": "HLep_xhhtrCQ",
        "outputId": "b269c90f-d4d1-482f-a269-5d7f3f1f45f3"
      },
      "execution_count": 51,
      "outputs": [
        {
          "output_type": "stream",
          "name": "stdout",
          "text": [
            "Dataset Information:\n",
            "<class 'pandas.core.frame.DataFrame'>\n",
            "Int64Index: 4809 entries, 0 to 4808\n",
            "Data columns (total 6 columns):\n",
            " #   Column        Non-Null Count  Dtype  \n",
            "---  ------        --------------  -----  \n",
            " 0   title         4809 non-null   object \n",
            " 1   cast          4809 non-null   object \n",
            " 2   crew          4809 non-null   object \n",
            " 3   vote_average  4809 non-null   float64\n",
            " 4   vote_count    4809 non-null   int64  \n",
            " 5   user          4809 non-null   int16  \n",
            "dtypes: float64(1), int16(1), int64(1), object(3)\n",
            "memory usage: 234.8+ KB\n",
            "None\n",
            "\n",
            "Descriptive Statistics:\n",
            "       vote_average    vote_count         user\n",
            "count   4809.000000   4809.000000  4809.000000\n",
            "mean       6.092514    690.331670  2399.249532\n",
            "std        1.193989   1234.187111  1385.801509\n",
            "min        0.000000      0.000000     0.000000\n",
            "25%        5.600000     54.000000  1199.000000\n",
            "50%        6.200000    235.000000  2401.000000\n",
            "75%        6.800000    737.000000  3600.000000\n",
            "max       10.000000  13752.000000  4799.000000\n"
          ]
        }
      ]
    },
    {
      "cell_type": "code",
      "source": [
        "!pip install scikit-surprise"
      ],
      "metadata": {
        "colab": {
          "base_uri": "https://localhost:8080/"
        },
        "id": "U_Mz7TakqWh1",
        "outputId": "b1b1a4f8-5ad6-46ff-8eea-118a5b4e8841"
      },
      "execution_count": 29,
      "outputs": [
        {
          "output_type": "stream",
          "name": "stdout",
          "text": [
            "Collecting scikit-surprise\n",
            "  Downloading scikit-surprise-1.1.3.tar.gz (771 kB)\n",
            "\u001b[2K     \u001b[90m━━━━━━━━━━━━━━━━━━━━━━━━━━━━━━━━━━━━━━━━\u001b[0m \u001b[32m772.0/772.0 kB\u001b[0m \u001b[31m9.6 MB/s\u001b[0m eta \u001b[36m0:00:00\u001b[0m\n",
            "\u001b[?25h  Preparing metadata (setup.py) ... \u001b[?25l\u001b[?25hdone\n",
            "Requirement already satisfied: joblib>=1.0.0 in /usr/local/lib/python3.10/dist-packages (from scikit-surprise) (1.3.2)\n",
            "Requirement already satisfied: numpy>=1.17.3 in /usr/local/lib/python3.10/dist-packages (from scikit-surprise) (1.23.5)\n",
            "Requirement already satisfied: scipy>=1.3.2 in /usr/local/lib/python3.10/dist-packages (from scikit-surprise) (1.11.3)\n",
            "Building wheels for collected packages: scikit-surprise\n",
            "  Building wheel for scikit-surprise (setup.py) ... \u001b[?25l\u001b[?25hdone\n",
            "  Created wheel for scikit-surprise: filename=scikit_surprise-1.1.3-cp310-cp310-linux_x86_64.whl size=3163471 sha256=4a07d19a0a509d22e7eea7be7918d8e49a3b81bf3e67f4852aad28e4d915395f\n",
            "  Stored in directory: /root/.cache/pip/wheels/a5/ca/a8/4e28def53797fdc4363ca4af740db15a9c2f1595ebc51fb445\n",
            "Successfully built scikit-surprise\n",
            "Installing collected packages: scikit-surprise\n",
            "Successfully installed scikit-surprise-1.1.3\n"
          ]
        }
      ]
    },
    {
      "cell_type": "code",
      "source": [
        "# Handle missing values\n",
        "data.dropna(subset=['vote_average'], inplace=True)\n"
      ],
      "metadata": {
        "id": "Aw_r9Pxbv8Z2"
      },
      "execution_count": 69,
      "outputs": []
    },
    {
      "cell_type": "code",
      "source": [
        "# Handle duplicates\n",
        "data.drop_duplicates(subset=['title'], inplace=True)"
      ],
      "metadata": {
        "id": "ll8BooFvv_MU"
      },
      "execution_count": 70,
      "outputs": []
    },
    {
      "cell_type": "code",
      "source": [
        "# Handle outliers in 'vote_average' column\n",
        "# Define a reasonable range for ratings (e.g., 0 to 10)\n",
        "data = data[(data['vote_average'] >= 0) & (data['vote_average'] <= 10)]"
      ],
      "metadata": {
        "id": "-YhvMXnqwFLH"
      },
      "execution_count": 71,
      "outputs": []
    },
    {
      "cell_type": "code",
      "source": [
        "# Convert 'cast' and 'crew' columns to lists (assuming they are JSON-like strings)\n",
        "#data['cast'] = data['cast'].apply(literal_eval)\n",
        "#data['crew'] = data['crew'].apply(literal_eval)"
      ],
      "metadata": {
        "id": "Hu2Vs0PiwRSo"
      },
      "execution_count": 74,
      "outputs": []
    },
    {
      "cell_type": "code",
      "source": [
        "# Create a Reader object\n",
        "from surprise import Dataset, Reader\n",
        "from surprise import Reader, Dataset\n",
        "from surprise.model_selection import train_test_split\n",
        "from surprise import KNNBasic, accuracy\n",
        "reader = Reader(rating_scale=(0, 10))"
      ],
      "metadata": {
        "id": "BudDQptXpy1K"
      },
      "execution_count": 75,
      "outputs": []
    },
    {
      "cell_type": "code",
      "source": [
        "# Load data into Surprise Dataset format\n",
        "data_surprise = Dataset.load_from_df(data[['user', 'title', 'vote_average']], reader)"
      ],
      "metadata": {
        "id": "ot889gPSqz3L"
      },
      "execution_count": 76,
      "outputs": []
    },
    {
      "cell_type": "code",
      "source": [
        "# Add a synthetic user ID for each movie\n",
        "data['user'] = data['title'].astype('category').cat.codes\n"
      ],
      "metadata": {
        "id": "i1qRGWHProAd"
      },
      "execution_count": 77,
      "outputs": []
    },
    {
      "cell_type": "code",
      "source": [
        "# Split the data into training and testing sets\n",
        "trainset, testset = train_test_split(data_surprise, test_size=0.25, random_state=42)"
      ],
      "metadata": {
        "id": "m4g040C_t7J1"
      },
      "execution_count": 78,
      "outputs": []
    },
    {
      "cell_type": "code",
      "source": [
        "# Build the User-Based Collaborative Filtering model\n",
        "sim_options_user = {'name': 'cosine', 'user_based': True}\n",
        "model_user = KNNBasic(sim_options=sim_options_user)\n",
        "model_user.fit(trainset)\n"
      ],
      "metadata": {
        "colab": {
          "base_uri": "https://localhost:8080/"
        },
        "id": "-y6QC_kqrz7S",
        "outputId": "8176f35b-6158-4513-a83d-a3af39534799"
      },
      "execution_count": 79,
      "outputs": [
        {
          "output_type": "stream",
          "name": "stdout",
          "text": [
            "Computing the cosine similarity matrix...\n",
            "Done computing similarity matrix.\n"
          ]
        },
        {
          "output_type": "execute_result",
          "data": {
            "text/plain": [
              "<surprise.prediction_algorithms.knns.KNNBasic at 0x7d21268ef850>"
            ]
          },
          "metadata": {},
          "execution_count": 79
        }
      ]
    },
    {
      "cell_type": "code",
      "source": [
        "# Build the Item-Based Collaborative Filtering model\n",
        "sim_options_item = {'name': 'cosine', 'user_based': False}\n",
        "model_item = KNNBasic(sim_options=sim_options_item)\n",
        "model_item.fit(trainset)"
      ],
      "metadata": {
        "colab": {
          "base_uri": "https://localhost:8080/"
        },
        "id": "YZFI_gHSr4C6",
        "outputId": "8e3f0dc0-f681-423d-fa1e-93677a8b1c4e"
      },
      "execution_count": 80,
      "outputs": [
        {
          "output_type": "stream",
          "name": "stdout",
          "text": [
            "Computing the cosine similarity matrix...\n",
            "Done computing similarity matrix.\n"
          ]
        },
        {
          "output_type": "execute_result",
          "data": {
            "text/plain": [
              "<surprise.prediction_algorithms.knns.KNNBasic at 0x7d21268ed780>"
            ]
          },
          "metadata": {},
          "execution_count": 80
        }
      ]
    },
    {
      "cell_type": "code",
      "source": [
        "from surprise import KNNBasic, SVD, accuracy\n",
        "# Build the Matrix Factorization (SVD) model\n",
        "model_svd = SVD()\n",
        "model_svd.fit(trainset)"
      ],
      "metadata": {
        "colab": {
          "base_uri": "https://localhost:8080/"
        },
        "id": "UyXEY7mh303r",
        "outputId": "70cb06ce-1235-46f9-97f5-16adfcb3517c"
      },
      "execution_count": 87,
      "outputs": [
        {
          "output_type": "execute_result",
          "data": {
            "text/plain": [
              "<surprise.prediction_algorithms.matrix_factorization.SVD at 0x7d215d850940>"
            ]
          },
          "metadata": {},
          "execution_count": 87
        }
      ]
    },
    {
      "cell_type": "code",
      "source": [
        "# Make predictions on the test set for all models\n",
        "predictions_user = model_user.test(testset)\n",
        "predictions_item = model_item.test(testset)\n",
        "predictions_svd = model_svd.test(testset)\n"
      ],
      "metadata": {
        "id": "j7hjHLVsr6wc"
      },
      "execution_count": 88,
      "outputs": []
    },
    {
      "cell_type": "code",
      "source": [
        "# Evaluate the models\n",
        "accuracy_user = accuracy.rmse(predictions_user)\n",
        "accuracy_item = accuracy.rmse(predictions_item)\n",
        "accuracy_svd = accuracy.rmse(predictions_svd)"
      ],
      "metadata": {
        "colab": {
          "base_uri": "https://localhost:8080/"
        },
        "id": "PZzZ_lVur-ED",
        "outputId": "9d4159d1-8ce2-4f3b-c957-3d9d7cb7cb74"
      },
      "execution_count": 89,
      "outputs": [
        {
          "output_type": "stream",
          "name": "stdout",
          "text": [
            "RMSE: 0.5390\n",
            "RMSE: 1.1735\n",
            "RMSE: 1.1735\n"
          ]
        }
      ]
    },
    {
      "cell_type": "code",
      "source": [
        "from surprise.model_selection import cross_validate, train_test_split\n",
        "# Perform cross-validation for SVD\n",
        "cross_val_results_svd = cross_validate(model_svd, data_surprise, measures=['RMSE', 'MAE'], cv=5, verbose=True)\n"
      ],
      "metadata": {
        "colab": {
          "base_uri": "https://localhost:8080/"
        },
        "id": "aXT5A9akuPcp",
        "outputId": "59f6a626-d791-425e-e579-95f5523f9312"
      },
      "execution_count": 90,
      "outputs": [
        {
          "output_type": "stream",
          "name": "stdout",
          "text": [
            "Evaluating RMSE, MAE of algorithm SVD on 5 split(s).\n",
            "\n",
            "                  Fold 1  Fold 2  Fold 3  Fold 4  Fold 5  Mean    Std     \n",
            "RMSE (testset)    1.2312  1.1491  1.1811  1.1570  1.2535  1.1944  0.0412  \n",
            "MAE (testset)     0.8425  0.8002  0.8304  0.8071  0.8514  0.8263  0.0198  \n",
            "Fit time          0.11    0.09    0.09    0.09    0.09    0.09    0.01    \n",
            "Test time         0.01    0.01    0.00    0.01    0.01    0.01    0.00    \n"
          ]
        }
      ]
    },
    {
      "cell_type": "code",
      "source": [
        "# Print the cross-validation results for SVD\n",
        "print(\"\\nCross-validation results for SVD:\")\n",
        "for metric in ['test_rmse', 'test_mae']:\n",
        "    print(f\"{metric}: {cross_val_results_svd[metric].mean()}\")"
      ],
      "metadata": {
        "colab": {
          "base_uri": "https://localhost:8080/"
        },
        "id": "QxhSKTNMuY_O",
        "outputId": "b91c5057-716e-4908-b512-7904ac94c382"
      },
      "execution_count": 91,
      "outputs": [
        {
          "output_type": "stream",
          "name": "stdout",
          "text": [
            "\n",
            "Cross-validation results for SVD:\n",
            "test_rmse: 1.1943803230373513\n",
            "test_mae: 0.82631298828125\n"
          ]
        }
      ]
    },
    {
      "cell_type": "code",
      "source": [
        "# Plotting the results\n",
        "import matplotlib.pyplot as plt\n",
        "models = ['User-Based CF', 'Item-Based CF', 'SVD']\n",
        "rmse_values = [accuracy_user, accuracy_item, accuracy_svd]\n",
        "cross_val_rmse_svd = cross_val_results_svd['test_rmse'].mean()\n",
        "\n",
        "plt.figure(figsize=(10, 6))\n",
        "plt.bar(models + ['SVD (Cross-Validation)'], rmse_values + [cross_val_rmse_svd], color=['blue', 'orange', 'green', 'red'])\n",
        "plt.title('RMSE Comparison of Collaborative Filtering Models')\n",
        "plt.xlabel('Models')\n",
        "plt.ylabel('RMSE')\n",
        "plt.show()"
      ],
      "metadata": {
        "colab": {
          "base_uri": "https://localhost:8080/",
          "height": 564
        },
        "id": "7lISwT2X6UPl",
        "outputId": "3393f8bb-4946-4144-bc25-e5a25b3c837a"
      },
      "execution_count": 93,
      "outputs": [
        {
          "output_type": "display_data",
          "data": {
            "text/plain": [
              "<Figure size 1000x600 with 1 Axes>"
            ],
            "image/png": "[encoded data removed]"
          },
          "metadata": {}
        }
      ]
    }
  ],
  "metadata": {
    "colab": {
      "provenance": []
    },
    "kernelspec": {
      "display_name": "Python 3",
      "name": "python3"
    },
    "language_info": {
      "name": "python"
    }
  },
  "nbformat": 4,
  "nbformat_minor": 0
}